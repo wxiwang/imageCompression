{
 "cells": [
  {
   "cell_type": "markdown",
   "metadata": {},
   "source": [
    "# Project 1. Dimension Reduction Using SVD and PCA\n",
    "\n",
    "### Student ID:\n",
    "### Student Name:"
   ]
  },
  {
   "cell_type": "code",
   "execution_count": null,
   "metadata": {},
   "outputs": [],
   "source": [
    "# All Import Statements Defined Here\n",
    "# Note: Do not change anything\n",
    "\n",
    "import numpy as np\n",
    "import math\n",
    "import matplotlib.pyplot as plt\n",
    "from matplotlib.image import imread\n",
    "\n",
    "from numpy.linalg import svd\n",
    "from sklearn.decomposition import PCA\n",
    "import os\n",
    "from sklearn.datasets import load_digits\n",
    "\n",
    "%matplotlib inline"
   ]
  },
  {
   "cell_type": "markdown",
   "metadata": {},
   "source": [
    "## Part 1. SVD Image Compression"
   ]
  },
  {
   "cell_type": "markdown",
   "metadata": {},
   "source": [
    "### Load Data (do not change the code !) "
   ]
  },
  {
   "cell_type": "code",
   "execution_count": null,
   "metadata": {},
   "outputs": [],
   "source": [
    "## image1 should be data.png, which is contained in the project zip file\n",
    "## image2 should be your own colored face photo in png format named as photo.png with a size no larger than 600x600\n",
    "\n",
    "image1 = imread(os.getcwd()+'/data.png')\n",
    "image2 =  imread(os.getcwd()+'/photo.png')\n",
    "\n",
    "image1 = image1[:,:,:3]\n",
    "image2 = image2[:,:,:3]\n",
    "\n",
    "## store the images in image_dict with name lake for image1 and name photo for image2\n",
    "\n",
    "image_dict = {'lake':image1,'photo':image2}"
   ]
  },
  {
   "cell_type": "code",
   "execution_count": null,
   "metadata": {},
   "outputs": [],
   "source": [
    "plt.imshow(image_dict['lake'])"
   ]
  },
  {
   "cell_type": "code",
   "execution_count": null,
   "metadata": {
    "scrolled": true
   },
   "outputs": [],
   "source": [
    "plt.imshow(image_dict['photo'])"
   ]
  },
  {
   "cell_type": "code",
   "execution_count": null,
   "metadata": {},
   "outputs": [],
   "source": [
    "image_dict['photo'].shape"
   ]
  },
  {
   "cell_type": "markdown",
   "metadata": {},
   "source": [
    "<font color='red'>Add a bit of introduction to yourself here, like your name, major, year, background, interets etc.</font>"
   ]
  },
  {
   "cell_type": "markdown",
   "metadata": {},
   "source": []
  },
  {
   "cell_type": "markdown",
   "metadata": {},
   "source": [
    "### Write a function to get the compressed matrix"
   ]
  },
  {
   "cell_type": "code",
   "execution_count": null,
   "metadata": {},
   "outputs": [],
   "source": [
    "def compress_svd(image,k):\n",
    "    \"\"\"\n",
    "    use svd decomposition to perform image compression\n",
    "    use the svd function from numpy.linalg to perfrom the svd decomposition\n",
    "    use the first k singular values to reconstruct the compressed matrix\n",
    "    \"\"\"\n",
    "    \n",
    "    ## write your code here\n",
    "    \n",
    "\n",
    "    \n",
    "    ##end of your code\n",
    "    \n",
    "    return compressed_image"
   ]
  },
  {
   "cell_type": "markdown",
   "metadata": {},
   "source": [
    "### Write the following functions to compress the images differently"
   ]
  },
  {
   "cell_type": "code",
   "execution_count": null,
   "metadata": {},
   "outputs": [],
   "source": [
    "def compress_show_images_reshape(image_name,k,show_image=True):\n",
    "    \"\"\"\n",
    "    image_name (string): image name in the image_dict \n",
    "    k (int): number of singular value for image compression\n",
    "    show_image (boolean): whether to plot the compressed functions\n",
    "    \n",
    "    Concatenate the first three layers of the image tensor into one wide matrix\n",
    "    Use compress_svd function to perform svd compression\n",
    "    Reshape the wide compressed matrix into an image tensor of three layers\n",
    "    if show_image is true, plot the compressed image\n",
    "    put the number of singular values and reconstruction error in the title\n",
    "    \n",
    "    return reconst_error (float), which is the mean squared error of the compressed image\n",
    "\n",
    "    \"\"\"\n",
    "    \n",
    "    ## your code starts here\n",
    "    \n",
    "\n",
    "    \n",
    "    \n",
    "    \n",
    "    \n",
    "    \n",
    "    \n",
    "    \n",
    "    ## end of your code\n",
    "    \n",
    "    return reconst_error"
   ]
  },
  {
   "cell_type": "code",
   "execution_count": null,
   "metadata": {
    "scrolled": true
   },
   "outputs": [],
   "source": [
    "def compress_show_images_separate(image_name,k,show_image=True):\n",
    "    \"\"\"\n",
    "    image_name (string): image name in the image_dict \n",
    "    k (int): number of singular value for image compression\n",
    "    show_image (boolean): whether to plot the compressed functions\n",
    "    \n",
    "    Use compress_svd function to perform svd compression for each of the three layers of the image tensor\n",
    "    if show_image is true, plot the compressed image\n",
    "    put the number of singular values and reconstruction error in the title\n",
    "\n",
    "    return reconst_error (float), which is the mean squared error of the compressed image\n",
    "\n",
    "    \"\"\"\n",
    "\n",
    "    ## your code starts here\n",
    "    \n",
    "\n",
    "    \n",
    "    \n",
    "    \n",
    "    \n",
    "    ## end of your code\n",
    "    \n",
    "    return reconst_error\n",
    "\n"
   ]
  },
  {
   "cell_type": "code",
   "execution_count": null,
   "metadata": {},
   "outputs": [],
   "source": [
    "compress_show_images_separate('lake',40)"
   ]
  },
  {
   "cell_type": "code",
   "execution_count": null,
   "metadata": {},
   "outputs": [],
   "source": [
    "compress_show_images_reshape('lake',40)"
   ]
  },
  {
   "cell_type": "markdown",
   "metadata": {},
   "source": [
    "### Write a function to plot the reconstruction errors and their differences "
   ]
  },
  {
   "cell_type": "code",
   "execution_count": null,
   "metadata": {},
   "outputs": [],
   "source": [
    "def plot_error(image_name,k_min,k_max):\n",
    "    \"\"\"\n",
    "    image_name (string): image name in the image_dict \n",
    "    k_min (int): minimum number of singular values used for image compression\n",
    "    k_max (int): maximum number of singular values used for image compression\n",
    "\n",
    "    plot the reconstruction errors using k between k_min and k_max\n",
    "    use a blue line to indicate the reconstruction error using compress_show_images_reshape function\n",
    "    use a orange line to indicate the reconstruction error using compress_show_images_reshape function\n",
    "    in a separate subfigure, plot the difference of the reconstruction errors for each k between k_min and k_max\n",
    "    \n",
    "    describe briefly what you see (is one error always smaller than the other? is the difference monotonic?)\n",
    "    \"\"\" \n",
    "    \n",
    "    ## your code starts here\n",
    "\n",
    "\n",
    "    \n",
    "    \n",
    "    \n",
    "    \n",
    "    \n",
    "\n",
    "    ## end of your code\n"
   ]
  },
  {
   "cell_type": "markdown",
   "metadata": {},
   "source": [
    "## <font color=\"Red\"> Run the following code.</font> (do not change the code!)"
   ]
  },
  {
   "cell_type": "code",
   "execution_count": null,
   "metadata": {},
   "outputs": [],
   "source": [
    "plot_error('lake',2,20)"
   ]
  },
  {
   "cell_type": "code",
   "execution_count": null,
   "metadata": {},
   "outputs": [],
   "source": [
    "[compress_show_images_separate('lake',k,False) for k in [1,5,10,20,30,40,20000]]"
   ]
  },
  {
   "cell_type": "code",
   "execution_count": null,
   "metadata": {},
   "outputs": [],
   "source": [
    "[compress_show_images_reshape('lake',k,False) for k in [1,5,10,20,30,40,20000]]"
   ]
  },
  {
   "cell_type": "code",
   "execution_count": null,
   "metadata": {},
   "outputs": [],
   "source": [
    "from ipywidgets import interact"
   ]
  },
  {
   "cell_type": "code",
   "execution_count": null,
   "metadata": {},
   "outputs": [],
   "source": [
    "interact(compress_show_images_reshape,image_name=['lake','photo'], k=(10,70))"
   ]
  },
  {
   "cell_type": "markdown",
   "metadata": {},
   "source": [
    "## Part 2. PCA of hand-written digits"
   ]
  },
  {
   "cell_type": "markdown",
   "metadata": {},
   "source": [
    "### Load data"
   ]
  },
  {
   "cell_type": "code",
   "execution_count": null,
   "metadata": {
    "scrolled": true
   },
   "outputs": [],
   "source": [
    "digits = load_digits()\n",
    "plt.imshow(digits.images[0],cmap='gray') "
   ]
  },
  {
   "cell_type": "markdown",
   "metadata": {},
   "source": [
    "### Check the covariance matrix"
   ]
  },
  {
   "cell_type": "code",
   "execution_count": null,
   "metadata": {},
   "outputs": [],
   "source": [
    "mu=digits.data.mean(axis=0)\n",
    "X=digits.data\n",
    "X_bar=np.repeat(mu,X.shape[0]).reshape(len(mu),-1).T\n",
    "cov=np.dot( (X-X_bar).T, X-X_bar )\n",
    "\n",
    "## What do you find? Not full rank!\n",
    "\n",
    "np.linalg.matrix_rank(cov)\n"
   ]
  },
  {
   "cell_type": "markdown",
   "metadata": {},
   "source": [
    "### Now use PCA function to use a 2-dim subspace to reconstruct the digits "
   ]
  },
  {
   "cell_type": "code",
   "execution_count": null,
   "metadata": {},
   "outputs": [],
   "source": [
    "## X_new is a list of lists which contains the first two PC for each digit\n",
    "## X_inv is the reconstructed digit image with the same shape as X\n",
    "## set the random_state = 12 for the PCA function ! this is important for your grade.\n",
    "\n",
    "## your code starts here\n",
    "\n",
    "\n",
    "\n",
    "\n",
    "\n",
    "\n",
    "## end here"
   ]
  },
  {
   "cell_type": "markdown",
   "metadata": {},
   "source": [
    "### Plot each digits (elements in X_new) with different color labels"
   ]
  },
  {
   "cell_type": "code",
   "execution_count": null,
   "metadata": {},
   "outputs": [],
   "source": [
    "## your code starts here\n",
    "\n",
    "\n",
    "\n",
    "\n",
    "\n",
    "## end here"
   ]
  },
  {
   "cell_type": "markdown",
   "metadata": {},
   "source": [
    "### Write a function to do a side-by-side plot of the original digit and the reconstructed digit"
   ]
  },
  {
   "cell_type": "code",
   "execution_count": null,
   "metadata": {},
   "outputs": [],
   "source": [
    "def plot_digits(k):\n",
    "    \"\"\"\n",
    "    the left part is the compressed digit, the right part is the original digit\n",
    "    \"\"\"\n",
    "    ## your code starts here\n",
    "    \n",
    "\n",
    "    \n",
    "    \n",
    "    \n",
    "    ## end here"
   ]
  },
  {
   "cell_type": "markdown",
   "metadata": {},
   "source": [
    "## <font color=\"Red\"> Run the following code.</font> (do not change the code!)"
   ]
  },
  {
   "cell_type": "code",
   "execution_count": null,
   "metadata": {},
   "outputs": [],
   "source": [
    "X_inv[0]"
   ]
  },
  {
   "cell_type": "code",
   "execution_count": null,
   "metadata": {},
   "outputs": [],
   "source": [
    "plot_digits(100)"
   ]
  },
  {
   "cell_type": "markdown",
   "metadata": {},
   "source": [
    "# <font color=\"blue\"> Submission Instructions</font>\n",
    "\n",
    "1. Click the Save button at the top of the Jupyter Notebook.\n",
    "2. Please make sure to have entered your Student ID above.\n",
    "3. Select Cell -> All Output -> Clear. This will clear all the outputs from all cells (but will keep the content of ll cells). \n",
    "4. Select Cell -> Run All. This will run all the cells in order, and will take several minutes. <font color='red'>You will not get any grade if you don't follow this step strictly.</font>\n",
    "5. Once you've rerun everything, select File -> Download as -> PDF via LaTeX\n",
    "6. Look at the PDF file and make sure all your solutions are there, displayed correctly. The PDF is the only thing your graders will see!\n",
    "7. Submit your PDF on Canvas."
   ]
  },
  {
   "cell_type": "code",
   "execution_count": null,
   "metadata": {},
   "outputs": [],
   "source": []
  }
 ],
 "metadata": {
  "kernelspec": {
   "display_name": "Python 3",
   "language": "python",
   "name": "python3"
  },
  "language_info": {
   "codemirror_mode": {
    "name": "ipython",
    "version": 3
   },
   "file_extension": ".py",
   "mimetype": "text/x-python",
   "name": "python",
   "nbconvert_exporter": "python",
   "pygments_lexer": "ipython3",
   "version": "3.7.3"
  }
 },
 "nbformat": 4,
 "nbformat_minor": 2
}
